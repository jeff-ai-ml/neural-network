{
  "nbformat": 4,
  "nbformat_minor": 0,
  "metadata": {
    "colab": {
      "provenance": [],
      "include_colab_link": true
    },
    "kernelspec": {
      "name": "python3",
      "display_name": "Python 3"
    },
    "language_info": {
      "name": "python"
    }
  },
  "cells": [
    {
      "cell_type": "markdown",
      "metadata": {
        "id": "view-in-github",
        "colab_type": "text"
      },
      "source": [
        "<a href=\"https://colab.research.google.com/github/jeff-ai-ml/neural-network/blob/main/multi_layer_perceptron_pima_indians_additions.ipynb\" target=\"_parent\"><img src=\"https://colab.research.google.com/assets/colab-badge.svg\" alt=\"Open In Colab\"/></a>"
      ]
    },
    {
      "cell_type": "code",
      "execution_count": null,
      "metadata": {
        "id": "7Mszl2EYHgRA"
      },
      "outputs": [],
      "source": [
        "# Create your first MLP in Keras\n",
        "from keras.models import Sequential\n",
        "from keras.layers import Dense\n",
        "import numpy"
      ]
    },
    {
      "cell_type": "code",
      "source": [
        "# fix random seed for reproducibility\n",
        "numpy.random.seed(7)\n",
        "# load pima indians dataset\n",
        "dataset = numpy.loadtxt(\"https://raw.githubusercontent.com/jeff-ai-ml/neural-network-datasets/refs/heads/main/pima-indians-diabetes.csv\", delimiter=\",\")\n",
        "# split into input (X) and output (Y) variables\n",
        "print(dataset)\n",
        "X = dataset[:,0:8]\n",
        "Y = dataset[:,8]"
      ],
      "metadata": {
        "id": "pK35jltuHi-5",
        "colab": {
          "base_uri": "https://localhost:8080/"
        },
        "outputId": "abe92dc3-0352-410e-87e3-eb12a7b1210d"
      },
      "execution_count": null,
      "outputs": [
        {
          "output_type": "stream",
          "name": "stdout",
          "text": [
            "[[  6.    148.     72.    ...   0.627  50.      1.   ]\n",
            " [  1.     85.     66.    ...   0.351  31.      0.   ]\n",
            " [  8.    183.     64.    ...   0.672  32.      1.   ]\n",
            " ...\n",
            " [  5.    121.     72.    ...   0.245  30.      0.   ]\n",
            " [  1.    126.     60.    ...   0.349  47.      1.   ]\n",
            " [  1.     93.     70.    ...   0.315  23.      0.   ]]\n"
          ]
        }
      ]
    },
    {
      "cell_type": "code",
      "source": [
        "# create model\n",
        "model = Sequential()\n",
        "model.add(Dense(12, input_dim=8, activation='relu'))\n",
        "model.add(Dense(8, activation='relu'))\n",
        "model.add(Dense(1, activation='sigmoid'))\n",
        "model.summary()"
      ],
      "metadata": {
        "colab": {
          "base_uri": "https://localhost:8080/",
          "height": 238
        },
        "id": "hECj6ciEHm44",
        "outputId": "3b77b732-85f6-4d36-9d29-c6d8484a9a12"
      },
      "execution_count": null,
      "outputs": [
        {
          "output_type": "display_data",
          "data": {
            "text/plain": [
              "\u001b[1mModel: \"sequential_1\"\u001b[0m\n"
            ],
            "text/html": [
              "<pre style=\"white-space:pre;overflow-x:auto;line-height:normal;font-family:Menlo,'DejaVu Sans Mono',consolas,'Courier New',monospace\"><span style=\"font-weight: bold\">Model: \"sequential_1\"</span>\n",
              "</pre>\n"
            ]
          },
          "metadata": {}
        },
        {
          "output_type": "display_data",
          "data": {
            "text/plain": [
              "┏━━━━━━━━━━━━━━━━━━━━━━━━━━━━━━━━━┳━━━━━━━━━━━━━━━━━━━━━━━━┳━━━━━━━━━━━━━━━┓\n",
              "┃\u001b[1m \u001b[0m\u001b[1mLayer (type)                   \u001b[0m\u001b[1m \u001b[0m┃\u001b[1m \u001b[0m\u001b[1mOutput Shape          \u001b[0m\u001b[1m \u001b[0m┃\u001b[1m \u001b[0m\u001b[1m      Param #\u001b[0m\u001b[1m \u001b[0m┃\n",
              "┡━━━━━━━━━━━━━━━━━━━━━━━━━━━━━━━━━╇━━━━━━━━━━━━━━━━━━━━━━━━╇━━━━━━━━━━━━━━━┩\n",
              "│ dense_3 (\u001b[38;5;33mDense\u001b[0m)                 │ (\u001b[38;5;45mNone\u001b[0m, \u001b[38;5;34m12\u001b[0m)             │           \u001b[38;5;34m108\u001b[0m │\n",
              "├─────────────────────────────────┼────────────────────────┼───────────────┤\n",
              "│ dense_4 (\u001b[38;5;33mDense\u001b[0m)                 │ (\u001b[38;5;45mNone\u001b[0m, \u001b[38;5;34m8\u001b[0m)              │           \u001b[38;5;34m104\u001b[0m │\n",
              "├─────────────────────────────────┼────────────────────────┼───────────────┤\n",
              "│ dense_5 (\u001b[38;5;33mDense\u001b[0m)                 │ (\u001b[38;5;45mNone\u001b[0m, \u001b[38;5;34m1\u001b[0m)              │             \u001b[38;5;34m9\u001b[0m │\n",
              "└─────────────────────────────────┴────────────────────────┴───────────────┘\n"
            ],
            "text/html": [
              "<pre style=\"white-space:pre;overflow-x:auto;line-height:normal;font-family:Menlo,'DejaVu Sans Mono',consolas,'Courier New',monospace\">┏━━━━━━━━━━━━━━━━━━━━━━━━━━━━━━━━━┳━━━━━━━━━━━━━━━━━━━━━━━━┳━━━━━━━━━━━━━━━┓\n",
              "┃<span style=\"font-weight: bold\"> Layer (type)                    </span>┃<span style=\"font-weight: bold\"> Output Shape           </span>┃<span style=\"font-weight: bold\">       Param # </span>┃\n",
              "┡━━━━━━━━━━━━━━━━━━━━━━━━━━━━━━━━━╇━━━━━━━━━━━━━━━━━━━━━━━━╇━━━━━━━━━━━━━━━┩\n",
              "│ dense_3 (<span style=\"color: #0087ff; text-decoration-color: #0087ff\">Dense</span>)                 │ (<span style=\"color: #00d7ff; text-decoration-color: #00d7ff\">None</span>, <span style=\"color: #00af00; text-decoration-color: #00af00\">12</span>)             │           <span style=\"color: #00af00; text-decoration-color: #00af00\">108</span> │\n",
              "├─────────────────────────────────┼────────────────────────┼───────────────┤\n",
              "│ dense_4 (<span style=\"color: #0087ff; text-decoration-color: #0087ff\">Dense</span>)                 │ (<span style=\"color: #00d7ff; text-decoration-color: #00d7ff\">None</span>, <span style=\"color: #00af00; text-decoration-color: #00af00\">8</span>)              │           <span style=\"color: #00af00; text-decoration-color: #00af00\">104</span> │\n",
              "├─────────────────────────────────┼────────────────────────┼───────────────┤\n",
              "│ dense_5 (<span style=\"color: #0087ff; text-decoration-color: #0087ff\">Dense</span>)                 │ (<span style=\"color: #00d7ff; text-decoration-color: #00d7ff\">None</span>, <span style=\"color: #00af00; text-decoration-color: #00af00\">1</span>)              │             <span style=\"color: #00af00; text-decoration-color: #00af00\">9</span> │\n",
              "└─────────────────────────────────┴────────────────────────┴───────────────┘\n",
              "</pre>\n"
            ]
          },
          "metadata": {}
        },
        {
          "output_type": "display_data",
          "data": {
            "text/plain": [
              "\u001b[1m Total params: \u001b[0m\u001b[38;5;34m221\u001b[0m (884.00 B)\n"
            ],
            "text/html": [
              "<pre style=\"white-space:pre;overflow-x:auto;line-height:normal;font-family:Menlo,'DejaVu Sans Mono',consolas,'Courier New',monospace\"><span style=\"font-weight: bold\"> Total params: </span><span style=\"color: #00af00; text-decoration-color: #00af00\">221</span> (884.00 B)\n",
              "</pre>\n"
            ]
          },
          "metadata": {}
        },
        {
          "output_type": "display_data",
          "data": {
            "text/plain": [
              "\u001b[1m Trainable params: \u001b[0m\u001b[38;5;34m221\u001b[0m (884.00 B)\n"
            ],
            "text/html": [
              "<pre style=\"white-space:pre;overflow-x:auto;line-height:normal;font-family:Menlo,'DejaVu Sans Mono',consolas,'Courier New',monospace\"><span style=\"font-weight: bold\"> Trainable params: </span><span style=\"color: #00af00; text-decoration-color: #00af00\">221</span> (884.00 B)\n",
              "</pre>\n"
            ]
          },
          "metadata": {}
        },
        {
          "output_type": "display_data",
          "data": {
            "text/plain": [
              "\u001b[1m Non-trainable params: \u001b[0m\u001b[38;5;34m0\u001b[0m (0.00 B)\n"
            ],
            "text/html": [
              "<pre style=\"white-space:pre;overflow-x:auto;line-height:normal;font-family:Menlo,'DejaVu Sans Mono',consolas,'Courier New',monospace\"><span style=\"font-weight: bold\"> Non-trainable params: </span><span style=\"color: #00af00; text-decoration-color: #00af00\">0</span> (0.00 B)\n",
              "</pre>\n"
            ]
          },
          "metadata": {}
        }
      ]
    },
    {
      "cell_type": "code",
      "source": [
        "for i, layer in enumerate(model.layers):\n",
        "    if hasattr(layer, 'kernel_initializer'):\n",
        "        print(f\"Layer {i} - {layer.name}:\")\n",
        "        print(\"  Kernel Initializer:\", layer.kernel_initializer)\n",
        "        print()\n"
      ],
      "metadata": {
        "colab": {
          "base_uri": "https://localhost:8080/"
        },
        "id": "UulnFmuL42h0",
        "outputId": "5150fc80-d955-4da2-f2cd-b99137d81a0d"
      },
      "execution_count": null,
      "outputs": [
        {
          "output_type": "stream",
          "name": "stdout",
          "text": [
            "Layer 0 - dense_3:\n",
            "  Kernel Initializer: <keras.src.initializers.random_initializers.GlorotUniform object at 0x794631c064d0>\n",
            "\n",
            "Layer 1 - dense_4:\n",
            "  Kernel Initializer: <keras.src.initializers.random_initializers.GlorotUniform object at 0x794631c64dd0>\n",
            "\n",
            "Layer 2 - dense_5:\n",
            "  Kernel Initializer: <keras.src.initializers.random_initializers.GlorotUniform object at 0x794631c6ca50>\n",
            "\n"
          ]
        }
      ]
    },
    {
      "cell_type": "code",
      "source": [
        "# Compile model\n",
        "model.compile(loss='binary_crossentropy', optimizer='adam', metrics=['accuracy'])\n",
        "#model.compile(optimizer='adam', loss='mse')\n",
        "print(\"\\n📌 Initial Weights:\")\n",
        "for layer in model.layers:\n",
        "    weights = layer.get_weights()\n",
        "    if weights:\n",
        "        print(f\"Layer {layer.name} weights:\\n\", weights[0])\n",
        "        print(f\"Layer {layer.name} biases:\\n\", weights[1])"
      ],
      "metadata": {
        "colab": {
          "base_uri": "https://localhost:8080/"
        },
        "id": "dEh4McsuHpgR",
        "outputId": "d2f2132f-808c-4322-d279-d85ba6d1e79d"
      },
      "execution_count": null,
      "outputs": [
        {
          "output_type": "stream",
          "name": "stdout",
          "text": [
            "\n",
            "📌 Initial Weights:\n",
            "Layer dense_3 weights:\n",
            " [[-0.01244938 -0.15115067 -0.2501118  -0.4296136  -0.26547432  0.2108497\n",
            "  -0.12293443  0.25664037 -0.1938194  -0.1963161  -0.5070145   0.2736525 ]\n",
            " [ 0.22333276  0.49064064 -0.380135   -0.2573817   0.49562    -0.13054389\n",
            "  -0.01137429  0.07716519 -0.2844446  -0.21248412  0.08712125  0.53135586]\n",
            " [ 0.22501999 -0.21175125  0.40474027 -0.26651746  0.07324636  0.47029352\n",
            "  -0.292678    0.1968019  -0.39314383  0.12630188  0.22868162  0.20909095]\n",
            " [-0.04153156  0.02644706  0.13638973 -0.10716656  0.07717025  0.1948781\n",
            "  -0.49921387  0.35697383  0.29711616  0.27469653 -0.5086702   0.44198585]\n",
            " [ 0.39161104  0.5265329  -0.01847589  0.25145668 -0.24523318  0.33410317\n",
            "   0.2710312  -0.10268781  0.03806436 -0.2688269  -0.2963531  -0.4694119 ]\n",
            " [-0.4765093  -0.4978517   0.28476924  0.09543639  0.12864202  0.35050166\n",
            "  -0.23202035  0.28693372  0.4185393  -0.21241999 -0.4358225   0.48991108]\n",
            " [-0.06115648 -0.3990895   0.49275124 -0.49150607  0.476794    0.41881418\n",
            "  -0.13015813 -0.36674303  0.04993683 -0.3703761   0.29844838 -0.26352206]\n",
            " [-0.01313722  0.29729885 -0.13956314 -0.3819034  -0.26169527 -0.04566324\n",
            "  -0.1011841   0.19812876 -0.01603913 -0.49365658 -0.43044284  0.13454467]]\n",
            "Layer dense_3 biases:\n",
            " [0. 0. 0. 0. 0. 0. 0. 0. 0. 0. 0. 0.]\n",
            "Layer dense_4 weights:\n",
            " [[ 0.18501168 -0.42277604  0.26457262  0.43086922 -0.41517037 -0.0016126\n",
            "   0.26747847 -0.14564472]\n",
            " [ 0.04753035  0.39174485 -0.1939261  -0.46749955 -0.13559577  0.01664454\n",
            "  -0.22138247 -0.11322397]\n",
            " [ 0.01455015 -0.35180658 -0.22903773  0.54559064  0.04706496 -0.2170924\n",
            "  -0.404813    0.4865371 ]\n",
            " [ 0.05121028 -0.11598328  0.40987587 -0.01071471 -0.18823224 -0.01778626\n",
            "   0.2169131  -0.17484379]\n",
            " [ 0.29662144  0.4893855   0.3145643  -0.23207182  0.5221243   0.5406027\n",
            "   0.09546816 -0.3015058 ]\n",
            " [ 0.08915907  0.1974048  -0.49934575 -0.03054136 -0.17330626  0.18174803\n",
            "  -0.48425746  0.44626635]\n",
            " [-0.04645824 -0.0068087  -0.06771106  0.36754233  0.45080924 -0.06698027\n",
            "  -0.52194726  0.03413916]\n",
            " [-0.3913783  -0.42949894  0.2907846   0.48722088 -0.4918635   0.41885018\n",
            "  -0.33998072  0.01892132]\n",
            " [-0.4316321   0.43806076 -0.0454244  -0.44020984 -0.11262119  0.05802071\n",
            "  -0.09719661 -0.5143404 ]\n",
            " [ 0.10759825  0.48110914 -0.5452446  -0.4703533  -0.2808472  -0.24730468\n",
            "  -0.04234225  0.50278294]\n",
            " [-0.1227712   0.31461978 -0.07949656 -0.2571234   0.4586643   0.09365797\n",
            "  -0.5233507  -0.12316635]\n",
            " [ 0.04972106 -0.23881665 -0.16142699  0.10516477  0.31372136  0.34946674\n",
            "   0.08283186  0.29932696]]\n",
            "Layer dense_4 biases:\n",
            " [0. 0. 0. 0. 0. 0. 0. 0.]\n",
            "Layer dense_5 weights:\n",
            " [[-0.09404451]\n",
            " [ 0.51413167]\n",
            " [-0.78598535]\n",
            " [-0.42804974]\n",
            " [-0.8032604 ]\n",
            " [-0.4998561 ]\n",
            " [-0.0322991 ]\n",
            " [-0.08502281]]\n",
            "Layer dense_5 biases:\n",
            " [0.]\n"
          ]
        }
      ]
    },
    {
      "cell_type": "code",
      "source": [
        "# Fit the model\n",
        "model.fit(X, Y, epochs=150, batch_size=10)\n",
        "#evaluate the model\n",
        "scores = model.evaluate(X, Y)\n",
        "print(\"\\n%s: %.2f%%\" % (model.metrics_names[1], scores[1]*100))"
      ],
      "metadata": {
        "colab": {
          "base_uri": "https://localhost:8080/"
        },
        "id": "ZB1KY9cz21N6",
        "outputId": "d53a2d6b-9a8d-4730-8a1e-3e2d90158a75"
      },
      "execution_count": null,
      "outputs": [
        {
          "output_type": "stream",
          "name": "stdout",
          "text": [
            "Epoch 1/150\n",
            "\u001b[1m77/77\u001b[0m \u001b[32m━━━━━━━━━━━━━━━━━━━━\u001b[0m\u001b[37m\u001b[0m \u001b[1m1s\u001b[0m 2ms/step - accuracy: 0.6452 - loss: 14.1699\n",
            "Epoch 2/150\n",
            "\u001b[1m77/77\u001b[0m \u001b[32m━━━━━━━━━━━━━━━━━━━━\u001b[0m\u001b[37m\u001b[0m \u001b[1m0s\u001b[0m 1ms/step - accuracy: 0.6476 - loss: 4.0947\n",
            "Epoch 3/150\n",
            "\u001b[1m77/77\u001b[0m \u001b[32m━━━━━━━━━━━━━━━━━━━━\u001b[0m\u001b[37m\u001b[0m \u001b[1m0s\u001b[0m 1ms/step - accuracy: 0.6307 - loss: 1.1187\n",
            "Epoch 4/150\n",
            "\u001b[1m77/77\u001b[0m \u001b[32m━━━━━━━━━━━━━━━━━━━━\u001b[0m\u001b[37m\u001b[0m \u001b[1m0s\u001b[0m 1ms/step - accuracy: 0.6662 - loss: 1.0128\n",
            "Epoch 5/150\n",
            "\u001b[1m77/77\u001b[0m \u001b[32m━━━━━━━━━━━━━━━━━━━━\u001b[0m\u001b[37m\u001b[0m \u001b[1m0s\u001b[0m 1ms/step - accuracy: 0.6588 - loss: 0.8486\n",
            "Epoch 6/150\n",
            "\u001b[1m77/77\u001b[0m \u001b[32m━━━━━━━━━━━━━━━━━━━━\u001b[0m\u001b[37m\u001b[0m \u001b[1m0s\u001b[0m 1ms/step - accuracy: 0.6571 - loss: 0.7777\n",
            "Epoch 7/150\n",
            "\u001b[1m77/77\u001b[0m \u001b[32m━━━━━━━━━━━━━━━━━━━━\u001b[0m\u001b[37m\u001b[0m \u001b[1m0s\u001b[0m 2ms/step - accuracy: 0.6577 - loss: 0.6891\n",
            "Epoch 8/150\n",
            "\u001b[1m77/77\u001b[0m \u001b[32m━━━━━━━━━━━━━━━━━━━━\u001b[0m\u001b[37m\u001b[0m \u001b[1m0s\u001b[0m 1ms/step - accuracy: 0.6756 - loss: 0.7099\n",
            "Epoch 9/150\n",
            "\u001b[1m77/77\u001b[0m \u001b[32m━━━━━━━━━━━━━━━━━━━━\u001b[0m\u001b[37m\u001b[0m \u001b[1m0s\u001b[0m 1ms/step - accuracy: 0.6826 - loss: 0.6670\n",
            "Epoch 10/150\n",
            "\u001b[1m77/77\u001b[0m \u001b[32m━━━━━━━━━━━━━━━━━━━━\u001b[0m\u001b[37m\u001b[0m \u001b[1m0s\u001b[0m 1ms/step - accuracy: 0.6633 - loss: 0.6628\n",
            "Epoch 11/150\n",
            "\u001b[1m77/77\u001b[0m \u001b[32m━━━━━━━━━━━━━━━━━━━━\u001b[0m\u001b[37m\u001b[0m \u001b[1m0s\u001b[0m 1ms/step - accuracy: 0.6327 - loss: 0.7035\n",
            "Epoch 12/150\n",
            "\u001b[1m77/77\u001b[0m \u001b[32m━━━━━━━━━━━━━━━━━━━━\u001b[0m\u001b[37m\u001b[0m \u001b[1m0s\u001b[0m 1ms/step - accuracy: 0.6604 - loss: 0.6563\n",
            "Epoch 13/150\n",
            "\u001b[1m77/77\u001b[0m \u001b[32m━━━━━━━━━━━━━━━━━━━━\u001b[0m\u001b[37m\u001b[0m \u001b[1m0s\u001b[0m 1ms/step - accuracy: 0.6581 - loss: 0.6755\n",
            "Epoch 14/150\n",
            "\u001b[1m77/77\u001b[0m \u001b[32m━━━━━━━━━━━━━━━━━━━━\u001b[0m\u001b[37m\u001b[0m \u001b[1m0s\u001b[0m 2ms/step - accuracy: 0.6517 - loss: 0.6894\n",
            "Epoch 15/150\n",
            "\u001b[1m77/77\u001b[0m \u001b[32m━━━━━━━━━━━━━━━━━━━━\u001b[0m\u001b[37m\u001b[0m \u001b[1m0s\u001b[0m 2ms/step - accuracy: 0.6643 - loss: 0.6344\n",
            "Epoch 16/150\n",
            "\u001b[1m77/77\u001b[0m \u001b[32m━━━━━━━━━━━━━━━━━━━━\u001b[0m\u001b[37m\u001b[0m \u001b[1m0s\u001b[0m 1ms/step - accuracy: 0.6582 - loss: 0.6476\n",
            "Epoch 17/150\n",
            "\u001b[1m77/77\u001b[0m \u001b[32m━━━━━━━━━━━━━━━━━━━━\u001b[0m\u001b[37m\u001b[0m \u001b[1m0s\u001b[0m 1ms/step - accuracy: 0.6945 - loss: 0.6268\n",
            "Epoch 18/150\n",
            "\u001b[1m77/77\u001b[0m \u001b[32m━━━━━━━━━━━━━━━━━━━━\u001b[0m\u001b[37m\u001b[0m \u001b[1m0s\u001b[0m 1ms/step - accuracy: 0.6585 - loss: 0.6571\n",
            "Epoch 19/150\n",
            "\u001b[1m77/77\u001b[0m \u001b[32m━━━━━━━━━━━━━━━━━━━━\u001b[0m\u001b[37m\u001b[0m \u001b[1m0s\u001b[0m 1ms/step - accuracy: 0.6830 - loss: 0.6260\n",
            "Epoch 20/150\n",
            "\u001b[1m77/77\u001b[0m \u001b[32m━━━━━━━━━━━━━━━━━━━━\u001b[0m\u001b[37m\u001b[0m \u001b[1m0s\u001b[0m 1ms/step - accuracy: 0.6910 - loss: 0.6036\n",
            "Epoch 21/150\n",
            "\u001b[1m77/77\u001b[0m \u001b[32m━━━━━━━━━━━━━━━━━━━━\u001b[0m\u001b[37m\u001b[0m \u001b[1m0s\u001b[0m 2ms/step - accuracy: 0.7086 - loss: 0.5968\n",
            "Epoch 22/150\n",
            "\u001b[1m77/77\u001b[0m \u001b[32m━━━━━━━━━━━━━━━━━━━━\u001b[0m\u001b[37m\u001b[0m \u001b[1m0s\u001b[0m 1ms/step - accuracy: 0.7019 - loss: 0.6061\n",
            "Epoch 23/150\n",
            "\u001b[1m77/77\u001b[0m \u001b[32m━━━━━━━━━━━━━━━━━━━━\u001b[0m\u001b[37m\u001b[0m \u001b[1m0s\u001b[0m 1ms/step - accuracy: 0.6936 - loss: 0.6078\n",
            "Epoch 24/150\n",
            "\u001b[1m77/77\u001b[0m \u001b[32m━━━━━━━━━━━━━━━━━━━━\u001b[0m\u001b[37m\u001b[0m \u001b[1m0s\u001b[0m 1ms/step - accuracy: 0.7061 - loss: 0.6121\n",
            "Epoch 25/150\n",
            "\u001b[1m77/77\u001b[0m \u001b[32m━━━━━━━━━━━━━━━━━━━━\u001b[0m\u001b[37m\u001b[0m \u001b[1m0s\u001b[0m 1ms/step - accuracy: 0.6942 - loss: 0.6230\n",
            "Epoch 26/150\n",
            "\u001b[1m77/77\u001b[0m \u001b[32m━━━━━━━━━━━━━━━━━━━━\u001b[0m\u001b[37m\u001b[0m \u001b[1m0s\u001b[0m 1ms/step - accuracy: 0.6853 - loss: 0.6191\n",
            "Epoch 27/150\n",
            "\u001b[1m77/77\u001b[0m \u001b[32m━━━━━━━━━━━━━━━━━━━━\u001b[0m\u001b[37m\u001b[0m \u001b[1m0s\u001b[0m 2ms/step - accuracy: 0.7073 - loss: 0.5924\n",
            "Epoch 28/150\n",
            "\u001b[1m77/77\u001b[0m \u001b[32m━━━━━━━━━━━━━━━━━━━━\u001b[0m\u001b[37m\u001b[0m \u001b[1m0s\u001b[0m 1ms/step - accuracy: 0.6633 - loss: 0.6454\n",
            "Epoch 29/150\n",
            "\u001b[1m77/77\u001b[0m \u001b[32m━━━━━━━━━━━━━━━━━━━━\u001b[0m\u001b[37m\u001b[0m \u001b[1m0s\u001b[0m 2ms/step - accuracy: 0.6768 - loss: 0.6104\n",
            "Epoch 30/150\n",
            "\u001b[1m77/77\u001b[0m \u001b[32m━━━━━━━━━━━━━━━━━━━━\u001b[0m\u001b[37m\u001b[0m \u001b[1m0s\u001b[0m 1ms/step - accuracy: 0.6776 - loss: 0.6159\n",
            "Epoch 31/150\n",
            "\u001b[1m77/77\u001b[0m \u001b[32m━━━━━━━━━━━━━━━━━━━━\u001b[0m\u001b[37m\u001b[0m \u001b[1m0s\u001b[0m 1ms/step - accuracy: 0.6522 - loss: 0.6212\n",
            "Epoch 32/150\n",
            "\u001b[1m77/77\u001b[0m \u001b[32m━━━━━━━━━━━━━━━━━━━━\u001b[0m\u001b[37m\u001b[0m \u001b[1m0s\u001b[0m 1ms/step - accuracy: 0.6853 - loss: 0.5895\n",
            "Epoch 33/150\n",
            "\u001b[1m77/77\u001b[0m \u001b[32m━━━━━━━━━━━━━━━━━━━━\u001b[0m\u001b[37m\u001b[0m \u001b[1m0s\u001b[0m 1ms/step - accuracy: 0.6664 - loss: 0.5852\n",
            "Epoch 34/150\n",
            "\u001b[1m77/77\u001b[0m \u001b[32m━━━━━━━━━━━━━━━━━━━━\u001b[0m\u001b[37m\u001b[0m \u001b[1m0s\u001b[0m 2ms/step - accuracy: 0.7011 - loss: 0.6035\n",
            "Epoch 35/150\n",
            "\u001b[1m77/77\u001b[0m \u001b[32m━━━━━━━━━━━━━━━━━━━━\u001b[0m\u001b[37m\u001b[0m \u001b[1m0s\u001b[0m 1ms/step - accuracy: 0.7015 - loss: 0.5726\n",
            "Epoch 36/150\n",
            "\u001b[1m77/77\u001b[0m \u001b[32m━━━━━━━━━━━━━━━━━━━━\u001b[0m\u001b[37m\u001b[0m \u001b[1m0s\u001b[0m 2ms/step - accuracy: 0.6799 - loss: 0.6098\n",
            "Epoch 37/150\n",
            "\u001b[1m77/77\u001b[0m \u001b[32m━━━━━━━━━━━━━━━━━━━━\u001b[0m\u001b[37m\u001b[0m \u001b[1m0s\u001b[0m 1ms/step - accuracy: 0.6730 - loss: 0.6297\n",
            "Epoch 38/150\n",
            "\u001b[1m77/77\u001b[0m \u001b[32m━━━━━━━━━━━━━━━━━━━━\u001b[0m\u001b[37m\u001b[0m \u001b[1m0s\u001b[0m 1ms/step - accuracy: 0.7073 - loss: 0.5758\n",
            "Epoch 39/150\n",
            "\u001b[1m77/77\u001b[0m \u001b[32m━━━━━━━━━━━━━━━━━━━━\u001b[0m\u001b[37m\u001b[0m \u001b[1m0s\u001b[0m 1ms/step - accuracy: 0.6869 - loss: 0.6068\n",
            "Epoch 40/150\n",
            "\u001b[1m77/77\u001b[0m \u001b[32m━━━━━━━━━━━━━━━━━━━━\u001b[0m\u001b[37m\u001b[0m \u001b[1m0s\u001b[0m 2ms/step - accuracy: 0.7155 - loss: 0.5528\n",
            "Epoch 41/150\n",
            "\u001b[1m77/77\u001b[0m \u001b[32m━━━━━━━━━━━━━━━━━━━━\u001b[0m\u001b[37m\u001b[0m \u001b[1m0s\u001b[0m 1ms/step - accuracy: 0.6804 - loss: 0.6071\n",
            "Epoch 42/150\n",
            "\u001b[1m77/77\u001b[0m \u001b[32m━━━━━━━━━━━━━━━━━━━━\u001b[0m\u001b[37m\u001b[0m \u001b[1m0s\u001b[0m 2ms/step - accuracy: 0.7112 - loss: 0.6007\n",
            "Epoch 43/150\n",
            "\u001b[1m77/77\u001b[0m \u001b[32m━━━━━━━━━━━━━━━━━━━━\u001b[0m\u001b[37m\u001b[0m \u001b[1m0s\u001b[0m 1ms/step - accuracy: 0.7180 - loss: 0.5759\n",
            "Epoch 44/150\n",
            "\u001b[1m77/77\u001b[0m \u001b[32m━━━━━━━━━━━━━━━━━━━━\u001b[0m\u001b[37m\u001b[0m \u001b[1m0s\u001b[0m 1ms/step - accuracy: 0.7416 - loss: 0.5455\n",
            "Epoch 45/150\n",
            "\u001b[1m77/77\u001b[0m \u001b[32m━━━━━━━━━━━━━━━━━━━━\u001b[0m\u001b[37m\u001b[0m \u001b[1m0s\u001b[0m 1ms/step - accuracy: 0.7366 - loss: 0.5576\n",
            "Epoch 46/150\n",
            "\u001b[1m77/77\u001b[0m \u001b[32m━━━━━━━━━━━━━━━━━━━━\u001b[0m\u001b[37m\u001b[0m \u001b[1m0s\u001b[0m 2ms/step - accuracy: 0.7484 - loss: 0.5429\n",
            "Epoch 47/150\n",
            "\u001b[1m77/77\u001b[0m \u001b[32m━━━━━━━━━━━━━━━━━━━━\u001b[0m\u001b[37m\u001b[0m \u001b[1m0s\u001b[0m 2ms/step - accuracy: 0.6924 - loss: 0.5890\n",
            "Epoch 48/150\n",
            "\u001b[1m77/77\u001b[0m \u001b[32m━━━━━━━━━━━━━━━━━━━━\u001b[0m\u001b[37m\u001b[0m \u001b[1m0s\u001b[0m 2ms/step - accuracy: 0.7203 - loss: 0.5389\n",
            "Epoch 49/150\n",
            "\u001b[1m77/77\u001b[0m \u001b[32m━━━━━━━━━━━━━━━━━━━━\u001b[0m\u001b[37m\u001b[0m \u001b[1m0s\u001b[0m 1ms/step - accuracy: 0.7042 - loss: 0.5938\n",
            "Epoch 50/150\n",
            "\u001b[1m77/77\u001b[0m \u001b[32m━━━━━━━━━━━━━━━━━━━━\u001b[0m\u001b[37m\u001b[0m \u001b[1m0s\u001b[0m 1ms/step - accuracy: 0.7311 - loss: 0.5806\n",
            "Epoch 51/150\n",
            "\u001b[1m77/77\u001b[0m \u001b[32m━━━━━━━━━━━━━━━━━━━━\u001b[0m\u001b[37m\u001b[0m \u001b[1m0s\u001b[0m 1ms/step - accuracy: 0.7101 - loss: 0.5633\n",
            "Epoch 52/150\n",
            "\u001b[1m77/77\u001b[0m \u001b[32m━━━━━━━━━━━━━━━━━━━━\u001b[0m\u001b[37m\u001b[0m \u001b[1m0s\u001b[0m 1ms/step - accuracy: 0.7259 - loss: 0.5584\n",
            "Epoch 53/150\n",
            "\u001b[1m77/77\u001b[0m \u001b[32m━━━━━━━━━━━━━━━━━━━━\u001b[0m\u001b[37m\u001b[0m \u001b[1m0s\u001b[0m 3ms/step - accuracy: 0.7217 - loss: 0.5549\n",
            "Epoch 54/150\n",
            "\u001b[1m77/77\u001b[0m \u001b[32m━━━━━━━━━━━━━━━━━━━━\u001b[0m\u001b[37m\u001b[0m \u001b[1m0s\u001b[0m 2ms/step - accuracy: 0.7157 - loss: 0.5718\n",
            "Epoch 55/150\n",
            "\u001b[1m77/77\u001b[0m \u001b[32m━━━━━━━━━━━━━━━━━━━━\u001b[0m\u001b[37m\u001b[0m \u001b[1m0s\u001b[0m 2ms/step - accuracy: 0.7369 - loss: 0.5452\n",
            "Epoch 56/150\n",
            "\u001b[1m77/77\u001b[0m \u001b[32m━━━━━━━━━━━━━━━━━━━━\u001b[0m\u001b[37m\u001b[0m \u001b[1m0s\u001b[0m 2ms/step - accuracy: 0.7390 - loss: 0.5424\n",
            "Epoch 57/150\n",
            "\u001b[1m77/77\u001b[0m \u001b[32m━━━━━━━━━━━━━━━━━━━━\u001b[0m\u001b[37m\u001b[0m \u001b[1m0s\u001b[0m 2ms/step - accuracy: 0.7433 - loss: 0.5485\n",
            "Epoch 58/150\n",
            "\u001b[1m77/77\u001b[0m \u001b[32m━━━━━━━━━━━━━━━━━━━━\u001b[0m\u001b[37m\u001b[0m \u001b[1m0s\u001b[0m 1ms/step - accuracy: 0.7213 - loss: 0.5796\n",
            "Epoch 59/150\n",
            "\u001b[1m77/77\u001b[0m \u001b[32m━━━━━━━━━━━━━━━━━━━━\u001b[0m\u001b[37m\u001b[0m \u001b[1m0s\u001b[0m 2ms/step - accuracy: 0.7042 - loss: 0.5709\n",
            "Epoch 60/150\n",
            "\u001b[1m77/77\u001b[0m \u001b[32m━━━━━━━━━━━━━━━━━━━━\u001b[0m\u001b[37m\u001b[0m \u001b[1m0s\u001b[0m 1ms/step - accuracy: 0.7326 - loss: 0.5679\n",
            "Epoch 61/150\n",
            "\u001b[1m77/77\u001b[0m \u001b[32m━━━━━━━━━━━━━━━━━━━━\u001b[0m\u001b[37m\u001b[0m \u001b[1m0s\u001b[0m 1ms/step - accuracy: 0.7178 - loss: 0.5538\n",
            "Epoch 62/150\n",
            "\u001b[1m77/77\u001b[0m \u001b[32m━━━━━━━━━━━━━━━━━━━━\u001b[0m\u001b[37m\u001b[0m \u001b[1m0s\u001b[0m 1ms/step - accuracy: 0.7203 - loss: 0.5292\n",
            "Epoch 63/150\n",
            "\u001b[1m77/77\u001b[0m \u001b[32m━━━━━━━━━━━━━━━━━━━━\u001b[0m\u001b[37m\u001b[0m \u001b[1m0s\u001b[0m 1ms/step - accuracy: 0.7350 - loss: 0.5353\n",
            "Epoch 64/150\n",
            "\u001b[1m77/77\u001b[0m \u001b[32m━━━━━━━━━━━━━━━━━━━━\u001b[0m\u001b[37m\u001b[0m \u001b[1m0s\u001b[0m 2ms/step - accuracy: 0.7620 - loss: 0.5157\n",
            "Epoch 65/150\n",
            "\u001b[1m77/77\u001b[0m \u001b[32m━━━━━━━━━━━━━━━━━━━━\u001b[0m\u001b[37m\u001b[0m \u001b[1m0s\u001b[0m 2ms/step - accuracy: 0.7188 - loss: 0.5535\n",
            "Epoch 66/150\n",
            "\u001b[1m77/77\u001b[0m \u001b[32m━━━━━━━━━━━━━━━━━━━━\u001b[0m\u001b[37m\u001b[0m \u001b[1m0s\u001b[0m 1ms/step - accuracy: 0.7460 - loss: 0.5304\n",
            "Epoch 67/150\n",
            "\u001b[1m77/77\u001b[0m \u001b[32m━━━━━━━━━━━━━━━━━━━━\u001b[0m\u001b[37m\u001b[0m \u001b[1m0s\u001b[0m 1ms/step - accuracy: 0.7465 - loss: 0.5545\n",
            "Epoch 68/150\n",
            "\u001b[1m77/77\u001b[0m \u001b[32m━━━━━━━━━━━━━━━━━━━━\u001b[0m\u001b[37m\u001b[0m \u001b[1m0s\u001b[0m 2ms/step - accuracy: 0.7405 - loss: 0.5267\n",
            "Epoch 69/150\n",
            "\u001b[1m77/77\u001b[0m \u001b[32m━━━━━━━━━━━━━━━━━━━━\u001b[0m\u001b[37m\u001b[0m \u001b[1m0s\u001b[0m 1ms/step - accuracy: 0.7218 - loss: 0.5401\n",
            "Epoch 70/150\n",
            "\u001b[1m77/77\u001b[0m \u001b[32m━━━━━━━━━━━━━━━━━━━━\u001b[0m\u001b[37m\u001b[0m \u001b[1m0s\u001b[0m 2ms/step - accuracy: 0.7490 - loss: 0.5281\n",
            "Epoch 71/150\n",
            "\u001b[1m77/77\u001b[0m \u001b[32m━━━━━━━━━━━━━━━━━━━━\u001b[0m\u001b[37m\u001b[0m \u001b[1m0s\u001b[0m 2ms/step - accuracy: 0.7435 - loss: 0.5301\n",
            "Epoch 72/150\n",
            "\u001b[1m77/77\u001b[0m \u001b[32m━━━━━━━━━━━━━━━━━━━━\u001b[0m\u001b[37m\u001b[0m \u001b[1m0s\u001b[0m 1ms/step - accuracy: 0.7276 - loss: 0.5544\n",
            "Epoch 73/150\n",
            "\u001b[1m77/77\u001b[0m \u001b[32m━━━━━━━━━━━━━━━━━━━━\u001b[0m\u001b[37m\u001b[0m \u001b[1m0s\u001b[0m 1ms/step - accuracy: 0.7333 - loss: 0.5553\n",
            "Epoch 74/150\n",
            "\u001b[1m77/77\u001b[0m \u001b[32m━━━━━━━━━━━━━━━━━━━━\u001b[0m\u001b[37m\u001b[0m \u001b[1m0s\u001b[0m 1ms/step - accuracy: 0.7431 - loss: 0.5446\n",
            "Epoch 75/150\n",
            "\u001b[1m77/77\u001b[0m \u001b[32m━━━━━━━━━━━━━━━━━━━━\u001b[0m\u001b[37m\u001b[0m \u001b[1m0s\u001b[0m 1ms/step - accuracy: 0.7102 - loss: 0.5599\n",
            "Epoch 76/150\n",
            "\u001b[1m77/77\u001b[0m \u001b[32m━━━━━━━━━━━━━━━━━━━━\u001b[0m\u001b[37m\u001b[0m \u001b[1m0s\u001b[0m 1ms/step - accuracy: 0.6904 - loss: 0.5746\n",
            "Epoch 77/150\n",
            "\u001b[1m77/77\u001b[0m \u001b[32m━━━━━━━━━━━━━━━━━━━━\u001b[0m\u001b[37m\u001b[0m \u001b[1m0s\u001b[0m 1ms/step - accuracy: 0.7673 - loss: 0.5243\n",
            "Epoch 78/150\n",
            "\u001b[1m77/77\u001b[0m \u001b[32m━━━━━━━━━━━━━━━━━━━━\u001b[0m\u001b[37m\u001b[0m \u001b[1m0s\u001b[0m 1ms/step - accuracy: 0.7533 - loss: 0.5057\n",
            "Epoch 79/150\n",
            "\u001b[1m77/77\u001b[0m \u001b[32m━━━━━━━━━━━━━━━━━━━━\u001b[0m\u001b[37m\u001b[0m \u001b[1m0s\u001b[0m 1ms/step - accuracy: 0.7429 - loss: 0.5169\n",
            "Epoch 80/150\n",
            "\u001b[1m77/77\u001b[0m \u001b[32m━━━━━━━━━━━━━━━━━━━━\u001b[0m\u001b[37m\u001b[0m \u001b[1m0s\u001b[0m 1ms/step - accuracy: 0.7318 - loss: 0.5434\n",
            "Epoch 81/150\n",
            "\u001b[1m77/77\u001b[0m \u001b[32m━━━━━━━━━━━━━━━━━━━━\u001b[0m\u001b[37m\u001b[0m \u001b[1m0s\u001b[0m 1ms/step - accuracy: 0.7374 - loss: 0.5605\n",
            "Epoch 82/150\n",
            "\u001b[1m77/77\u001b[0m \u001b[32m━━━━━━━━━━━━━━━━━━━━\u001b[0m\u001b[37m\u001b[0m \u001b[1m0s\u001b[0m 2ms/step - accuracy: 0.7543 - loss: 0.5293\n",
            "Epoch 83/150\n",
            "\u001b[1m77/77\u001b[0m \u001b[32m━━━━━━━━━━━━━━━━━━━━\u001b[0m\u001b[37m\u001b[0m \u001b[1m0s\u001b[0m 1ms/step - accuracy: 0.7250 - loss: 0.5494\n",
            "Epoch 84/150\n",
            "\u001b[1m77/77\u001b[0m \u001b[32m━━━━━━━━━━━━━━━━━━━━\u001b[0m\u001b[37m\u001b[0m \u001b[1m0s\u001b[0m 2ms/step - accuracy: 0.7467 - loss: 0.5123\n",
            "Epoch 85/150\n",
            "\u001b[1m77/77\u001b[0m \u001b[32m━━━━━━━━━━━━━━━━━━━━\u001b[0m\u001b[37m\u001b[0m \u001b[1m0s\u001b[0m 1ms/step - accuracy: 0.7086 - loss: 0.5494\n",
            "Epoch 86/150\n",
            "\u001b[1m77/77\u001b[0m \u001b[32m━━━━━━━━━━━━━━━━━━━━\u001b[0m\u001b[37m\u001b[0m \u001b[1m0s\u001b[0m 1ms/step - accuracy: 0.7330 - loss: 0.5109\n",
            "Epoch 87/150\n",
            "\u001b[1m77/77\u001b[0m \u001b[32m━━━━━━━━━━━━━━━━━━━━\u001b[0m\u001b[37m\u001b[0m \u001b[1m0s\u001b[0m 1ms/step - accuracy: 0.7575 - loss: 0.5176\n",
            "Epoch 88/150\n",
            "\u001b[1m77/77\u001b[0m \u001b[32m━━━━━━━━━━━━━━━━━━━━\u001b[0m\u001b[37m\u001b[0m \u001b[1m0s\u001b[0m 1ms/step - accuracy: 0.7542 - loss: 0.5120\n",
            "Epoch 89/150\n",
            "\u001b[1m77/77\u001b[0m \u001b[32m━━━━━━━━━━━━━━━━━━━━\u001b[0m\u001b[37m\u001b[0m \u001b[1m0s\u001b[0m 1ms/step - accuracy: 0.7242 - loss: 0.5597\n",
            "Epoch 90/150\n",
            "\u001b[1m77/77\u001b[0m \u001b[32m━━━━━━━━━━━━━━━━━━━━\u001b[0m\u001b[37m\u001b[0m \u001b[1m0s\u001b[0m 1ms/step - accuracy: 0.7502 - loss: 0.5201\n",
            "Epoch 91/150\n",
            "\u001b[1m77/77\u001b[0m \u001b[32m━━━━━━━━━━━━━━━━━━━━\u001b[0m\u001b[37m\u001b[0m \u001b[1m0s\u001b[0m 2ms/step - accuracy: 0.7469 - loss: 0.5281\n",
            "Epoch 92/150\n",
            "\u001b[1m77/77\u001b[0m \u001b[32m━━━━━━━━━━━━━━━━━━━━\u001b[0m\u001b[37m\u001b[0m \u001b[1m0s\u001b[0m 1ms/step - accuracy: 0.7387 - loss: 0.5384\n",
            "Epoch 93/150\n",
            "\u001b[1m77/77\u001b[0m \u001b[32m━━━━━━━━━━━━━━━━━━━━\u001b[0m\u001b[37m\u001b[0m \u001b[1m0s\u001b[0m 1ms/step - accuracy: 0.7375 - loss: 0.5302\n",
            "Epoch 94/150\n",
            "\u001b[1m77/77\u001b[0m \u001b[32m━━━━━━━━━━━━━━━━━━━━\u001b[0m\u001b[37m\u001b[0m \u001b[1m0s\u001b[0m 1ms/step - accuracy: 0.7528 - loss: 0.5302\n",
            "Epoch 95/150\n",
            "\u001b[1m77/77\u001b[0m \u001b[32m━━━━━━━━━━━━━━━━━━━━\u001b[0m\u001b[37m\u001b[0m \u001b[1m0s\u001b[0m 1ms/step - accuracy: 0.6942 - loss: 0.5588\n",
            "Epoch 96/150\n",
            "\u001b[1m77/77\u001b[0m \u001b[32m━━━━━━━━━━━━━━━━━━━━\u001b[0m\u001b[37m\u001b[0m \u001b[1m0s\u001b[0m 1ms/step - accuracy: 0.7210 - loss: 0.5577\n",
            "Epoch 97/150\n",
            "\u001b[1m77/77\u001b[0m \u001b[32m━━━━━━━━━━━━━━━━━━━━\u001b[0m\u001b[37m\u001b[0m \u001b[1m0s\u001b[0m 1ms/step - accuracy: 0.7577 - loss: 0.5251\n",
            "Epoch 98/150\n",
            "\u001b[1m77/77\u001b[0m \u001b[32m━━━━━━━━━━━━━━━━━━━━\u001b[0m\u001b[37m\u001b[0m \u001b[1m0s\u001b[0m 2ms/step - accuracy: 0.7248 - loss: 0.5407\n",
            "Epoch 99/150\n",
            "\u001b[1m77/77\u001b[0m \u001b[32m━━━━━━━━━━━━━━━━━━━━\u001b[0m\u001b[37m\u001b[0m \u001b[1m0s\u001b[0m 1ms/step - accuracy: 0.7499 - loss: 0.5256\n",
            "Epoch 100/150\n",
            "\u001b[1m77/77\u001b[0m \u001b[32m━━━━━━━━━━━━━━━━━━━━\u001b[0m\u001b[37m\u001b[0m \u001b[1m0s\u001b[0m 1ms/step - accuracy: 0.7316 - loss: 0.5298\n",
            "Epoch 101/150\n",
            "\u001b[1m77/77\u001b[0m \u001b[32m━━━━━━━━━━━━━━━━━━━━\u001b[0m\u001b[37m\u001b[0m \u001b[1m0s\u001b[0m 2ms/step - accuracy: 0.7761 - loss: 0.4856\n",
            "Epoch 102/150\n",
            "\u001b[1m77/77\u001b[0m \u001b[32m━━━━━━━━━━━━━━━━━━━━\u001b[0m\u001b[37m\u001b[0m \u001b[1m0s\u001b[0m 1ms/step - accuracy: 0.7618 - loss: 0.5054\n",
            "Epoch 103/150\n",
            "\u001b[1m77/77\u001b[0m \u001b[32m━━━━━━━━━━━━━━━━━━━━\u001b[0m\u001b[37m\u001b[0m \u001b[1m0s\u001b[0m 1ms/step - accuracy: 0.7609 - loss: 0.5026\n",
            "Epoch 104/150\n",
            "\u001b[1m77/77\u001b[0m \u001b[32m━━━━━━━━━━━━━━━━━━━━\u001b[0m\u001b[37m\u001b[0m \u001b[1m0s\u001b[0m 2ms/step - accuracy: 0.7357 - loss: 0.5168\n",
            "Epoch 105/150\n",
            "\u001b[1m77/77\u001b[0m \u001b[32m━━━━━━━━━━━━━━━━━━━━\u001b[0m\u001b[37m\u001b[0m \u001b[1m0s\u001b[0m 2ms/step - accuracy: 0.7292 - loss: 0.5732\n",
            "Epoch 106/150\n",
            "\u001b[1m77/77\u001b[0m \u001b[32m━━━━━━━━━━━━━━━━━━━━\u001b[0m\u001b[37m\u001b[0m \u001b[1m0s\u001b[0m 1ms/step - accuracy: 0.7487 - loss: 0.5212\n",
            "Epoch 107/150\n",
            "\u001b[1m77/77\u001b[0m \u001b[32m━━━━━━━━━━━━━━━━━━━━\u001b[0m\u001b[37m\u001b[0m \u001b[1m0s\u001b[0m 1ms/step - accuracy: 0.7519 - loss: 0.5271\n",
            "Epoch 108/150\n",
            "\u001b[1m77/77\u001b[0m \u001b[32m━━━━━━━━━━━━━━━━━━━━\u001b[0m\u001b[37m\u001b[0m \u001b[1m0s\u001b[0m 1ms/step - accuracy: 0.7123 - loss: 0.5481\n",
            "Epoch 109/150\n",
            "\u001b[1m77/77\u001b[0m \u001b[32m━━━━━━━━━━━━━━━━━━━━\u001b[0m\u001b[37m\u001b[0m \u001b[1m0s\u001b[0m 1ms/step - accuracy: 0.7280 - loss: 0.5454\n",
            "Epoch 110/150\n",
            "\u001b[1m77/77\u001b[0m \u001b[32m━━━━━━━━━━━━━━━━━━━━\u001b[0m\u001b[37m\u001b[0m \u001b[1m0s\u001b[0m 1ms/step - accuracy: 0.7550 - loss: 0.5164\n",
            "Epoch 111/150\n",
            "\u001b[1m77/77\u001b[0m \u001b[32m━━━━━━━━━━━━━━━━━━━━\u001b[0m\u001b[37m\u001b[0m \u001b[1m0s\u001b[0m 1ms/step - accuracy: 0.7294 - loss: 0.5402\n",
            "Epoch 112/150\n",
            "\u001b[1m77/77\u001b[0m \u001b[32m━━━━━━━━━━━━━━━━━━━━\u001b[0m\u001b[37m\u001b[0m \u001b[1m0s\u001b[0m 1ms/step - accuracy: 0.7363 - loss: 0.5375\n",
            "Epoch 113/150\n",
            "\u001b[1m77/77\u001b[0m \u001b[32m━━━━━━━━━━━━━━━━━━━━\u001b[0m\u001b[37m\u001b[0m \u001b[1m0s\u001b[0m 2ms/step - accuracy: 0.7701 - loss: 0.5168\n",
            "Epoch 114/150\n",
            "\u001b[1m77/77\u001b[0m \u001b[32m━━━━━━━━━━━━━━━━━━━━\u001b[0m\u001b[37m\u001b[0m \u001b[1m0s\u001b[0m 2ms/step - accuracy: 0.7785 - loss: 0.4920\n",
            "Epoch 115/150\n",
            "\u001b[1m77/77\u001b[0m \u001b[32m━━━━━━━━━━━━━━━━━━━━\u001b[0m\u001b[37m\u001b[0m \u001b[1m0s\u001b[0m 1ms/step - accuracy: 0.7513 - loss: 0.5194\n",
            "Epoch 116/150\n",
            "\u001b[1m77/77\u001b[0m \u001b[32m━━━━━━━━━━━━━━━━━━━━\u001b[0m\u001b[37m\u001b[0m \u001b[1m0s\u001b[0m 1ms/step - accuracy: 0.7774 - loss: 0.4878\n",
            "Epoch 117/150\n",
            "\u001b[1m77/77\u001b[0m \u001b[32m━━━━━━━━━━━━━━━━━━━━\u001b[0m\u001b[37m\u001b[0m \u001b[1m0s\u001b[0m 1ms/step - accuracy: 0.7565 - loss: 0.4837\n",
            "Epoch 118/150\n",
            "\u001b[1m77/77\u001b[0m \u001b[32m━━━━━━━━━━━━━━━━━━━━\u001b[0m\u001b[37m\u001b[0m \u001b[1m0s\u001b[0m 1ms/step - accuracy: 0.7734 - loss: 0.4972\n",
            "Epoch 119/150\n",
            "\u001b[1m77/77\u001b[0m \u001b[32m━━━━━━━━━━━━━━━━━━━━\u001b[0m\u001b[37m\u001b[0m \u001b[1m0s\u001b[0m 2ms/step - accuracy: 0.7577 - loss: 0.5369\n",
            "Epoch 120/150\n",
            "\u001b[1m77/77\u001b[0m \u001b[32m━━━━━━━━━━━━━━━━━━━━\u001b[0m\u001b[37m\u001b[0m \u001b[1m0s\u001b[0m 2ms/step - accuracy: 0.7621 - loss: 0.4924\n",
            "Epoch 121/150\n",
            "\u001b[1m77/77\u001b[0m \u001b[32m━━━━━━━━━━━━━━━━━━━━\u001b[0m\u001b[37m\u001b[0m \u001b[1m0s\u001b[0m 2ms/step - accuracy: 0.7588 - loss: 0.5024\n",
            "Epoch 122/150\n",
            "\u001b[1m77/77\u001b[0m \u001b[32m━━━━━━━━━━━━━━━━━━━━\u001b[0m\u001b[37m\u001b[0m \u001b[1m0s\u001b[0m 2ms/step - accuracy: 0.7714 - loss: 0.4920\n",
            "Epoch 123/150\n",
            "\u001b[1m77/77\u001b[0m \u001b[32m━━━━━━━━━━━━━━━━━━━━\u001b[0m\u001b[37m\u001b[0m \u001b[1m0s\u001b[0m 2ms/step - accuracy: 0.7286 - loss: 0.5227\n",
            "Epoch 124/150\n",
            "\u001b[1m77/77\u001b[0m \u001b[32m━━━━━━━━━━━━━━━━━━━━\u001b[0m\u001b[37m\u001b[0m \u001b[1m0s\u001b[0m 2ms/step - accuracy: 0.7618 - loss: 0.5141\n",
            "Epoch 125/150\n",
            "\u001b[1m77/77\u001b[0m \u001b[32m━━━━━━━━━━━━━━━━━━━━\u001b[0m\u001b[37m\u001b[0m \u001b[1m0s\u001b[0m 2ms/step - accuracy: 0.7615 - loss: 0.5369\n",
            "Epoch 126/150\n",
            "\u001b[1m77/77\u001b[0m \u001b[32m━━━━━━━━━━━━━━━━━━━━\u001b[0m\u001b[37m\u001b[0m \u001b[1m0s\u001b[0m 2ms/step - accuracy: 0.7690 - loss: 0.5021\n",
            "Epoch 127/150\n",
            "\u001b[1m77/77\u001b[0m \u001b[32m━━━━━━━━━━━━━━━━━━━━\u001b[0m\u001b[37m\u001b[0m \u001b[1m0s\u001b[0m 2ms/step - accuracy: 0.7616 - loss: 0.4967\n",
            "Epoch 128/150\n",
            "\u001b[1m77/77\u001b[0m \u001b[32m━━━━━━━━━━━━━━━━━━━━\u001b[0m\u001b[37m\u001b[0m \u001b[1m0s\u001b[0m 1ms/step - accuracy: 0.7788 - loss: 0.4742\n",
            "Epoch 129/150\n",
            "\u001b[1m77/77\u001b[0m \u001b[32m━━━━━━━━━━━━━━━━━━━━\u001b[0m\u001b[37m\u001b[0m \u001b[1m0s\u001b[0m 1ms/step - accuracy: 0.7559 - loss: 0.5156\n",
            "Epoch 130/150\n",
            "\u001b[1m77/77\u001b[0m \u001b[32m━━━━━━━━━━━━━━━━━━━━\u001b[0m\u001b[37m\u001b[0m \u001b[1m0s\u001b[0m 1ms/step - accuracy: 0.7577 - loss: 0.5222\n",
            "Epoch 131/150\n",
            "\u001b[1m77/77\u001b[0m \u001b[32m━━━━━━━━━━━━━━━━━━━━\u001b[0m\u001b[37m\u001b[0m \u001b[1m0s\u001b[0m 1ms/step - accuracy: 0.7656 - loss: 0.5096\n",
            "Epoch 132/150\n",
            "\u001b[1m77/77\u001b[0m \u001b[32m━━━━━━━━━━━━━━━━━━━━\u001b[0m\u001b[37m\u001b[0m \u001b[1m0s\u001b[0m 1ms/step - accuracy: 0.7631 - loss: 0.4919\n",
            "Epoch 133/150\n",
            "\u001b[1m77/77\u001b[0m \u001b[32m━━━━━━━━━━━━━━━━━━━━\u001b[0m\u001b[37m\u001b[0m \u001b[1m0s\u001b[0m 1ms/step - accuracy: 0.7452 - loss: 0.5093\n",
            "Epoch 134/150\n",
            "\u001b[1m77/77\u001b[0m \u001b[32m━━━━━━━━━━━━━━━━━━━━\u001b[0m\u001b[37m\u001b[0m \u001b[1m0s\u001b[0m 2ms/step - accuracy: 0.7538 - loss: 0.5102\n",
            "Epoch 135/150\n",
            "\u001b[1m77/77\u001b[0m \u001b[32m━━━━━━━━━━━━━━━━━━━━\u001b[0m\u001b[37m\u001b[0m \u001b[1m0s\u001b[0m 1ms/step - accuracy: 0.7005 - loss: 0.5808\n",
            "Epoch 136/150\n",
            "\u001b[1m77/77\u001b[0m \u001b[32m━━━━━━━━━━━━━━━━━━━━\u001b[0m\u001b[37m\u001b[0m \u001b[1m0s\u001b[0m 1ms/step - accuracy: 0.7784 - loss: 0.4762\n",
            "Epoch 137/150\n",
            "\u001b[1m77/77\u001b[0m \u001b[32m━━━━━━━━━━━━━━━━━━━━\u001b[0m\u001b[37m\u001b[0m \u001b[1m0s\u001b[0m 1ms/step - accuracy: 0.7815 - loss: 0.4892\n",
            "Epoch 138/150\n",
            "\u001b[1m77/77\u001b[0m \u001b[32m━━━━━━━━━━━━━━━━━━━━\u001b[0m\u001b[37m\u001b[0m \u001b[1m0s\u001b[0m 1ms/step - accuracy: 0.7515 - loss: 0.4973\n",
            "Epoch 139/150\n",
            "\u001b[1m77/77\u001b[0m \u001b[32m━━━━━━━━━━━━━━━━━━━━\u001b[0m\u001b[37m\u001b[0m \u001b[1m0s\u001b[0m 1ms/step - accuracy: 0.7337 - loss: 0.5211\n",
            "Epoch 140/150\n",
            "\u001b[1m77/77\u001b[0m \u001b[32m━━━━━━━━━━━━━━━━━━━━\u001b[0m\u001b[37m\u001b[0m \u001b[1m0s\u001b[0m 2ms/step - accuracy: 0.7335 - loss: 0.5085\n",
            "Epoch 141/150\n",
            "\u001b[1m77/77\u001b[0m \u001b[32m━━━━━━━━━━━━━━━━━━━━\u001b[0m\u001b[37m\u001b[0m \u001b[1m0s\u001b[0m 1ms/step - accuracy: 0.7921 - loss: 0.4635\n",
            "Epoch 142/150\n",
            "\u001b[1m77/77\u001b[0m \u001b[32m━━━━━━━━━━━━━━━━━━━━\u001b[0m\u001b[37m\u001b[0m \u001b[1m0s\u001b[0m 1ms/step - accuracy: 0.7556 - loss: 0.5162\n",
            "Epoch 143/150\n",
            "\u001b[1m77/77\u001b[0m \u001b[32m━━━━━━━━━━━━━━━━━━━━\u001b[0m\u001b[37m\u001b[0m \u001b[1m0s\u001b[0m 1ms/step - accuracy: 0.7846 - loss: 0.4865\n",
            "Epoch 144/150\n",
            "\u001b[1m77/77\u001b[0m \u001b[32m━━━━━━━━━━━━━━━━━━━━\u001b[0m\u001b[37m\u001b[0m \u001b[1m0s\u001b[0m 1ms/step - accuracy: 0.7713 - loss: 0.5365\n",
            "Epoch 145/150\n",
            "\u001b[1m77/77\u001b[0m \u001b[32m━━━━━━━━━━━━━━━━━━━━\u001b[0m\u001b[37m\u001b[0m \u001b[1m0s\u001b[0m 1ms/step - accuracy: 0.7462 - loss: 0.5175\n",
            "Epoch 146/150\n",
            "\u001b[1m77/77\u001b[0m \u001b[32m━━━━━━━━━━━━━━━━━━━━\u001b[0m\u001b[37m\u001b[0m \u001b[1m0s\u001b[0m 1ms/step - accuracy: 0.7546 - loss: 0.5246\n",
            "Epoch 147/150\n",
            "\u001b[1m77/77\u001b[0m \u001b[32m━━━━━━━━━━━━━━━━━━━━\u001b[0m\u001b[37m\u001b[0m \u001b[1m0s\u001b[0m 1ms/step - accuracy: 0.7646 - loss: 0.4937\n",
            "Epoch 148/150\n",
            "\u001b[1m77/77\u001b[0m \u001b[32m━━━━━━━━━━━━━━━━━━━━\u001b[0m\u001b[37m\u001b[0m \u001b[1m0s\u001b[0m 1ms/step - accuracy: 0.7622 - loss: 0.4898\n",
            "Epoch 149/150\n",
            "\u001b[1m77/77\u001b[0m \u001b[32m━━━━━━━━━━━━━━━━━━━━\u001b[0m\u001b[37m\u001b[0m \u001b[1m0s\u001b[0m 1ms/step - accuracy: 0.7660 - loss: 0.5021\n",
            "Epoch 150/150\n",
            "\u001b[1m77/77\u001b[0m \u001b[32m━━━━━━━━━━━━━━━━━━━━\u001b[0m\u001b[37m\u001b[0m \u001b[1m0s\u001b[0m 1ms/step - accuracy: 0.7747 - loss: 0.4738\n",
            "\u001b[1m24/24\u001b[0m \u001b[32m━━━━━━━━━━━━━━━━━━━━\u001b[0m\u001b[37m\u001b[0m \u001b[1m0s\u001b[0m 2ms/step - accuracy: 0.6992 - loss: 0.5777  \n",
            "\n",
            "compile_metrics: 72.79%\n"
          ]
        }
      ]
    },
    {
      "cell_type": "code",
      "source": [
        "for layer in model.layers:\n",
        "    print(f\"Layer: {layer.name}\")\n",
        "    weights = layer.get_weights()\n",
        "    if weights:\n",
        "        print(f\"  Weights shape: {weights[0].shape}\")\n",
        "        print(f\"  Weights: \\n{weights[0]}\")\n",
        "        print(f\"  Biases shape: {weights[1].shape}\")\n",
        "        print(f\"  Biases: \\n{weights[1]}\")\n",
        "    else:\n",
        "        print(\"  No weights (e.g., Dropout or Flatten layer)\")\n"
      ],
      "metadata": {
        "colab": {
          "base_uri": "https://localhost:8080/"
        },
        "id": "Q08wMAhU3aMe",
        "outputId": "c779ca50-80a1-474a-960b-db24433e9579"
      },
      "execution_count": null,
      "outputs": [
        {
          "output_type": "stream",
          "name": "stdout",
          "text": [
            "Layer: dense_3\n",
            "  Weights shape: (8, 12)\n",
            "  Weights: \n",
            "[[-2.7180004e-01 -3.6315599e-03 -2.8491011e-01 -5.3792709e-01\n",
            "  -9.2970587e-02  3.7834454e-01  2.6845774e-01 -8.7914899e-02\n",
            "  -1.7002186e-02 -1.9639491e-01 -5.2283323e-01  2.2288953e-01]\n",
            " [ 2.1444784e-01  5.3758001e-01 -5.1610827e-01 -1.8188909e-01\n",
            "   2.8917608e-01 -6.3615311e-03 -3.7440988e-03  1.5291678e-02\n",
            "  -2.9989648e-01 -2.1248412e-01  2.9923415e-02  3.8668445e-01]\n",
            " [ 1.7626914e-01 -1.3699885e-01  4.0531707e-01 -1.3466462e-01\n",
            "   1.3913536e-01  5.0517303e-01 -2.6635092e-01  5.5452436e-02\n",
            "  -2.4753831e-01  1.2220268e-01  1.7418188e-01  7.2326258e-02]\n",
            " [-1.2059233e-01  8.7329678e-02  9.6629813e-02 -3.9846115e-02\n",
            "  -2.0578853e-05  1.8416487e-01 -5.2153206e-01  1.8209545e-01\n",
            "   1.8081181e-01  2.7231038e-01 -5.3273487e-01  4.7194010e-01]\n",
            " [ 4.2909089e-01  4.5560765e-01 -8.6390369e-02  2.8815705e-01\n",
            "  -4.4321588e-01  1.6079955e-01  1.9267276e-01 -4.2299312e-02\n",
            "   1.4102538e-01 -2.6882690e-01 -2.9635310e-01 -4.4785899e-01]\n",
            " [-4.8134559e-01 -4.4299364e-01  3.4237763e-01  2.8149703e-01\n",
            "   1.0975230e-01  3.9863503e-01 -3.5846466e-01  1.8402743e-01\n",
            "   3.7710780e-01 -2.1462810e-01 -4.8639148e-01  2.9009521e-01]\n",
            " [-4.1938239e-01 -5.0846133e-02  1.8604538e-01 -3.3350977e-01\n",
            "   7.2420794e-01  9.1276944e-01 -1.6412719e-01 -9.9748379e-01\n",
            "  -1.1337671e-01 -3.7040672e-01  2.5833249e-01 -6.7669314e-01]\n",
            " [-9.5416298e-03  2.9101968e-01 -2.9497527e-02 -1.8209089e-01\n",
            "  -2.9100615e-01 -1.5479354e-02  1.5249080e-02  1.5350646e-01\n",
            "   1.6981834e-01 -4.9523851e-01 -4.7177428e-01  1.5359746e-01]]\n",
            "  Biases shape: (12,)\n",
            "  Biases: \n",
            "[ 1.5940636e+00 -1.4852465e+00  1.4739652e-01  9.1231197e-01\n",
            " -1.3179158e+00 -1.4501899e+00 -5.6570935e-01  1.4813501e+00\n",
            " -2.7654472e-01 -7.8959376e-05 -5.3685769e-02  1.2790670e+00]\n",
            "Layer: dense_4\n",
            "  Weights shape: (12, 8)\n",
            "  Weights: \n",
            "[[ 0.16889742 -0.43600455  0.250122    0.64920133 -0.5166996  -0.00316364\n",
            "   0.26747847 -0.1668189 ]\n",
            " [ 0.04311855  0.3772105  -0.2090549  -0.50787675 -0.24395643  0.01375853\n",
            "  -0.22138247 -0.11147245]\n",
            " [ 0.3123712  -1.3288685  -0.22903773  0.38647223  0.03693648 -0.36448577\n",
            "  -0.404813    0.6032496 ]\n",
            " [ 0.03034466 -0.13407299  0.40987587 -0.01959444 -0.18823224 -0.00396393\n",
            "   0.2169131  -0.06643891]\n",
            " [ 0.21572056  0.6011411   0.29980686 -0.03674175  0.3941515   0.4283067\n",
            "   0.09546816 -0.25346264]\n",
            " [ 0.08751224  0.21814248 -0.51155233 -0.1890993  -0.26395115  0.12547389\n",
            "  -0.48425746  0.41420826]\n",
            " [-0.06365312 -0.02224098 -0.06771106  0.35987905  0.45080924 -0.051931\n",
            "  -0.52194726  0.3507806 ]\n",
            " [-0.4769626  -0.29415858  0.27647105  0.34617773 -0.57077366  0.2541157\n",
            "  -0.33998072  0.02650484]\n",
            " [-0.31187043  0.27141637 -0.0454244  -1.0337495  -0.0778215   0.12643954\n",
            "  -0.09719661 -0.08167567]\n",
            " [ 0.10759825  0.48110914 -0.5452446  -0.470335   -0.2808472  -0.24728508\n",
            "  -0.04234225  0.5027814 ]\n",
            " [-0.08453373  0.2812776  -0.07949656 -0.26303428  0.44072738  0.12498534\n",
            "  -0.5233507  -0.19960831]\n",
            " [-0.0486491  -0.09753892 -0.17610742 -0.05645171  0.20764263  0.18871847\n",
            "   0.08283186  0.36628205]]\n",
            "  Biases shape: (8,)\n",
            "  Biases: \n",
            "[ 1.5950611  -1.5257868  -0.01455276  0.15398227 -0.02401491  1.4992083\n",
            "  0.         -1.5843985 ]\n",
            "Layer: dense_5\n",
            "  Weights shape: (8, 1)\n",
            "  Weights: \n",
            "[[-0.09500019]\n",
            " [ 0.48070163]\n",
            " [-0.7721956 ]\n",
            " [-0.48166364]\n",
            " [-0.6641052 ]\n",
            " [-0.3612247 ]\n",
            " [-0.0322991 ]\n",
            " [ 0.12240575]]\n",
            "  Biases shape: (1,)\n",
            "  Biases: \n",
            "[-1.5292554]\n"
          ]
        }
      ]
    },
    {
      "cell_type": "code",
      "source": [
        "all_weights = model.get_weights()\n",
        "for i, param in enumerate(all_weights):\n",
        "    print(f\"Param {i} shape: {param.shape}\\n{param}\\n\")\n"
      ],
      "metadata": {
        "colab": {
          "base_uri": "https://localhost:8080/"
        },
        "id": "T0-uX4K33htm",
        "outputId": "99b8be70-428f-44fd-f4b8-aaea2dc1d215"
      },
      "execution_count": null,
      "outputs": [
        {
          "output_type": "stream",
          "name": "stdout",
          "text": [
            "Param 0 shape: (8, 12)\n",
            "[[-2.7180004e-01 -3.6315599e-03 -2.8491011e-01 -5.3792709e-01\n",
            "  -9.2970587e-02  3.7834454e-01  2.6845774e-01 -8.7914899e-02\n",
            "  -1.7002186e-02 -1.9639491e-01 -5.2283323e-01  2.2288953e-01]\n",
            " [ 2.1444784e-01  5.3758001e-01 -5.1610827e-01 -1.8188909e-01\n",
            "   2.8917608e-01 -6.3615311e-03 -3.7440988e-03  1.5291678e-02\n",
            "  -2.9989648e-01 -2.1248412e-01  2.9923415e-02  3.8668445e-01]\n",
            " [ 1.7626914e-01 -1.3699885e-01  4.0531707e-01 -1.3466462e-01\n",
            "   1.3913536e-01  5.0517303e-01 -2.6635092e-01  5.5452436e-02\n",
            "  -2.4753831e-01  1.2220268e-01  1.7418188e-01  7.2326258e-02]\n",
            " [-1.2059233e-01  8.7329678e-02  9.6629813e-02 -3.9846115e-02\n",
            "  -2.0578853e-05  1.8416487e-01 -5.2153206e-01  1.8209545e-01\n",
            "   1.8081181e-01  2.7231038e-01 -5.3273487e-01  4.7194010e-01]\n",
            " [ 4.2909089e-01  4.5560765e-01 -8.6390369e-02  2.8815705e-01\n",
            "  -4.4321588e-01  1.6079955e-01  1.9267276e-01 -4.2299312e-02\n",
            "   1.4102538e-01 -2.6882690e-01 -2.9635310e-01 -4.4785899e-01]\n",
            " [-4.8134559e-01 -4.4299364e-01  3.4237763e-01  2.8149703e-01\n",
            "   1.0975230e-01  3.9863503e-01 -3.5846466e-01  1.8402743e-01\n",
            "   3.7710780e-01 -2.1462810e-01 -4.8639148e-01  2.9009521e-01]\n",
            " [-4.1938239e-01 -5.0846133e-02  1.8604538e-01 -3.3350977e-01\n",
            "   7.2420794e-01  9.1276944e-01 -1.6412719e-01 -9.9748379e-01\n",
            "  -1.1337671e-01 -3.7040672e-01  2.5833249e-01 -6.7669314e-01]\n",
            " [-9.5416298e-03  2.9101968e-01 -2.9497527e-02 -1.8209089e-01\n",
            "  -2.9100615e-01 -1.5479354e-02  1.5249080e-02  1.5350646e-01\n",
            "   1.6981834e-01 -4.9523851e-01 -4.7177428e-01  1.5359746e-01]]\n",
            "\n",
            "Param 1 shape: (12,)\n",
            "[ 1.5940636e+00 -1.4852465e+00  1.4739652e-01  9.1231197e-01\n",
            " -1.3179158e+00 -1.4501899e+00 -5.6570935e-01  1.4813501e+00\n",
            " -2.7654472e-01 -7.8959376e-05 -5.3685769e-02  1.2790670e+00]\n",
            "\n",
            "Param 2 shape: (12, 8)\n",
            "[[ 0.16889742 -0.43600455  0.250122    0.64920133 -0.5166996  -0.00316364\n",
            "   0.26747847 -0.1668189 ]\n",
            " [ 0.04311855  0.3772105  -0.2090549  -0.50787675 -0.24395643  0.01375853\n",
            "  -0.22138247 -0.11147245]\n",
            " [ 0.3123712  -1.3288685  -0.22903773  0.38647223  0.03693648 -0.36448577\n",
            "  -0.404813    0.6032496 ]\n",
            " [ 0.03034466 -0.13407299  0.40987587 -0.01959444 -0.18823224 -0.00396393\n",
            "   0.2169131  -0.06643891]\n",
            " [ 0.21572056  0.6011411   0.29980686 -0.03674175  0.3941515   0.4283067\n",
            "   0.09546816 -0.25346264]\n",
            " [ 0.08751224  0.21814248 -0.51155233 -0.1890993  -0.26395115  0.12547389\n",
            "  -0.48425746  0.41420826]\n",
            " [-0.06365312 -0.02224098 -0.06771106  0.35987905  0.45080924 -0.051931\n",
            "  -0.52194726  0.3507806 ]\n",
            " [-0.4769626  -0.29415858  0.27647105  0.34617773 -0.57077366  0.2541157\n",
            "  -0.33998072  0.02650484]\n",
            " [-0.31187043  0.27141637 -0.0454244  -1.0337495  -0.0778215   0.12643954\n",
            "  -0.09719661 -0.08167567]\n",
            " [ 0.10759825  0.48110914 -0.5452446  -0.470335   -0.2808472  -0.24728508\n",
            "  -0.04234225  0.5027814 ]\n",
            " [-0.08453373  0.2812776  -0.07949656 -0.26303428  0.44072738  0.12498534\n",
            "  -0.5233507  -0.19960831]\n",
            " [-0.0486491  -0.09753892 -0.17610742 -0.05645171  0.20764263  0.18871847\n",
            "   0.08283186  0.36628205]]\n",
            "\n",
            "Param 3 shape: (8,)\n",
            "[ 1.5950611  -1.5257868  -0.01455276  0.15398227 -0.02401491  1.4992083\n",
            "  0.         -1.5843985 ]\n",
            "\n",
            "Param 4 shape: (8, 1)\n",
            "[[-0.09500019]\n",
            " [ 0.48070163]\n",
            " [-0.7721956 ]\n",
            " [-0.48166364]\n",
            " [-0.6641052 ]\n",
            " [-0.3612247 ]\n",
            " [-0.0322991 ]\n",
            " [ 0.12240575]]\n",
            "\n",
            "Param 5 shape: (1,)\n",
            "[-1.5292554]\n",
            "\n"
          ]
        }
      ]
    },
    {
      "cell_type": "code",
      "source": [
        "import numpy as np\n",
        "# Predict diabetes for new samples (3 new patients)\n",
        "samples = np.array([[6, 148, 72, 35, 0, 33.6, 0.627, 50],   # Sample 1\n",
        "                    [1, 85, 66, 29, 0, 26.6, 0.351, 31],    # Sample 2\n",
        "                    [8, 183, 64, 0, 0, 23.3, 0.672, 32]])   # Sample 3\n",
        "\n",
        "# Standardize the new data using the same scaler\n",
        "#samples_scaled = scaler.transform(samples)"
      ],
      "metadata": {
        "id": "ne94Z7xi0heX"
      },
      "execution_count": null,
      "outputs": []
    },
    {
      "cell_type": "code",
      "source": [
        "# Predict diabetes (returns probabilities)\n",
        "predictions = model.predict(samples)\n",
        "\n",
        "# Convert probabilities to class labels (0 or 1)\n",
        "predicted_classes = (predictions > 0.5).astype(int)\n",
        "\n",
        "# Output predictions\n",
        "print(\"Predictions for the samples (0 = No Diabetes, 1 = Diabetes):\")\n",
        "print(predicted_classes.flatten())"
      ],
      "metadata": {
        "colab": {
          "base_uri": "https://localhost:8080/"
        },
        "id": "uKzIpAs1042W",
        "outputId": "cdbbcff5-cb4a-43f9-e2e4-5052a473a218"
      },
      "execution_count": null,
      "outputs": [
        {
          "output_type": "stream",
          "name": "stdout",
          "text": [
            "\u001b[1m1/1\u001b[0m \u001b[32m━━━━━━━━━━━━━━━━━━━━\u001b[0m\u001b[37m\u001b[0m \u001b[1m0s\u001b[0m 52ms/step\n",
            "Predictions for the samples (0 = No Diabetes, 1 = Diabetes):\n",
            "[1 0 1]\n"
          ]
        }
      ]
    }
  ]
}